{
 "cells": [
  {
   "cell_type": "markdown",
   "id": "e815f203d0793055",
   "metadata": {},
   "source": [
    "# Visualization\n",
    "-----\n",
    "## Matplot 고급 시각화 기법\n",
    "### 이미지 그리기\n",
    "#### 이미지 데이터를 활용한 그래프 그리기"
   ]
  },
  {
   "cell_type": "code",
   "execution_count": null,
   "id": "2e9db0a99be0a6d9",
   "metadata": {
    "ExecuteTime": {
     "end_time": "2023-08-03T06:57:27.135145200Z",
     "start_time": "2023-08-03T06:57:26.935809Z"
    }
   },
   "outputs": [],
   "source": [
    "import matplotlib.pyplot as plt\n",
    "import numpy as np\n",
    "\n",
    "# 예시 이미지 데이터 (3x3 크기의 흑백 이미지)\n",
    "image_data = np.array([[0.1, 0.4, 0.7],\n",
    "                       [0.3, 0.6, 0.9],\n",
    "                       [0.2, 0.5, 0.8]])\n",
    "\n",
    "plt.imshow(image_data, cmap='gray')  # 흑백 이미지를 회색조로 표시\n",
    "plt.colorbar()  # 컬러바 추가\n",
    "plt.title('Image Plot')\n",
    "plt.show()"
   ]
  },
  {
   "cell_type": "markdown",
   "id": "dc09b5a5f4cb88a1",
   "metadata": {},
   "source": [
    "##### 컬러맵 설정\n",
    "- https://matplotlib.org/stable/tutorials/colors/colormaps.html"
   ]
  },
  {
   "cell_type": "code",
   "execution_count": null,
   "id": "20f247fae1a9a8f7",
   "metadata": {
    "ExecuteTime": {
     "end_time": "2023-08-03T06:31:07.085454200Z",
     "start_time": "2023-08-03T06:31:06.840596100Z"
    }
   },
   "outputs": [],
   "source": [
    "import matplotlib.pyplot as plt\n",
    "import numpy as np\n",
    "\n",
    "# 예시 이미지 데이터 (3x3 크기의 흑백 이미지)\n",
    "image_data = np.array([[0.1, 0.4, 0.7],\n",
    "                       [0.3, 0.6, 0.9],\n",
    "                       [0.2, 0.5, 0.8]])\n",
    "\n",
    "plt.imshow(image_data, cmap='jet')  # 'jet' 컬러맵 사용\n",
    "plt.colorbar()  # 컬러바 추가\n",
    "plt.title('Image Plot with Jet Colormap')\n",
    "plt.show()"
   ]
  },
  {
   "cell_type": "markdown",
   "id": "e668325267b4c384",
   "metadata": {},
   "source": [
    "### 이미지 처리\n",
    "#### 이미지 처리 라이브러리\n",
    "- Pillow\n",
    "- OpenCV\n",
    "- scikit-image\n",
    "- imageio\n",
    "- numpy와 matplotlib (*)"
   ]
  },
  {
   "cell_type": "code",
   "execution_count": null,
   "id": "dd0a2236c6cd885c",
   "metadata": {
    "ExecuteTime": {
     "end_time": "2023-08-16T06:37:04.579658Z",
     "start_time": "2023-08-16T06:37:04.293457400Z"
    }
   },
   "outputs": [],
   "source": [
    "import numpy as np\n",
    "import matplotlib.image as img\n",
    "import matplotlib.pyplot as plt"
   ]
  },
  {
   "cell_type": "code",
   "execution_count": null,
   "id": "7c945494e284a1c5",
   "metadata": {
    "ExecuteTime": {
     "end_time": "2023-08-16T06:42:43.840857Z",
     "start_time": "2023-08-16T06:42:43.598665300Z"
    }
   },
   "outputs": [],
   "source": [
    "# 이미지 읽어오기\n",
    "image = img.imread('../data/white-horse.jpg')\n",
    "type(image) \n",
    "print(image.shape)  # 895x1280 3채널"
   ]
  },
  {
   "cell_type": "code",
   "execution_count": null,
   "id": "177afbca815ee430",
   "metadata": {
    "ExecuteTime": {
     "end_time": "2023-08-16T06:43:15.788391300Z",
     "start_time": "2023-08-16T06:43:15.759976Z"
    }
   },
   "outputs": [],
   "source": [
    "image"
   ]
  },
  {
   "cell_type": "code",
   "execution_count": null,
   "id": "bc41b21c812622a",
   "metadata": {
    "ExecuteTime": {
     "end_time": "2023-08-16T06:43:47.418313400Z",
     "start_time": "2023-08-16T06:43:47.389214500Z"
    }
   },
   "outputs": [],
   "source": [
    "np.min(image), np.max(image)"
   ]
  },
  {
   "cell_type": "code",
   "execution_count": null,
   "id": "54af16dbbf898999",
   "metadata": {
    "ExecuteTime": {
     "end_time": "2023-08-16T06:44:15.541578800Z",
     "start_time": "2023-08-16T06:44:14.483442100Z"
    }
   },
   "outputs": [],
   "source": [
    "# 이미지 출력 (imshow)\n",
    "plt.imshow(image)"
   ]
  },
  {
   "cell_type": "code",
   "execution_count": null,
   "id": "7d28944676ebdc98",
   "metadata": {
    "ExecuteTime": {
     "end_time": "2023-08-16T06:44:47.276277700Z",
     "start_time": "2023-08-16T06:44:46.056496100Z"
    }
   },
   "outputs": [],
   "source": [
    "# 이미지 상하 반전\n",
    "plt.imshow(image[::-1])"
   ]
  },
  {
   "cell_type": "code",
   "execution_count": null,
   "id": "2ea11474e38755a1",
   "metadata": {
    "ExecuteTime": {
     "end_time": "2023-08-16T06:45:04.213194400Z",
     "start_time": "2023-08-16T06:45:03.456832900Z"
    }
   },
   "outputs": [],
   "source": [
    "# 이미지 좌우 반전\n",
    "plt.imshow(image[:, ::-1])"
   ]
  },
  {
   "cell_type": "code",
   "execution_count": null,
   "id": "e99854e2da3c8826",
   "metadata": {
    "ExecuteTime": {
     "end_time": "2023-08-16T06:47:08.826580400Z",
     "start_time": "2023-08-16T06:47:08.036114100Z"
    }
   },
   "outputs": [],
   "source": [
    "# Cropping\n",
    "plt.imshow(image[100:800, 400:1000])\n",
    "plt.savefig('../generated/white-horse-cropped.png')"
   ]
  },
  {
   "cell_type": "markdown",
   "id": "298b5e89aedcb48a",
   "metadata": {},
   "source": [
    "### 고급 그래프\n",
    "#### 상자 그림 (Box Plot)\n",
    "- 박스 플롯의 특징\n",
    "    - 중앙값, 1사분위수, 3사분위수 등의 통계적 요약 정보를 그래픽으로 표현\n",
    "    - 데이터의 분포, 중심 경향, 이상치 등을 한 눈에 파악\n",
    "    - IQR(Interquartile Range, 사분범위)를 이용하여데이터의 변동성과 이상치를 시각적으로 표현\n",
    "- 장점\n",
    "    - 데이터의 전반적인 분포와 중앙값, 이상치 등을 쉽게 파악 가능\n",
    "    - 여러 그룹의 데이터 분포를 한번에 비교하기 좋음\n",
    "    - 데이터의 대략적인 대칭성, 편향도 등을 확인할 수 있음\n",
    "    - 이상치의 존재를 명확히 확인 가능\n",
    "- 단점\n",
    "    - 데이터의 실제 값을 정확히 나타내지 않음\n",
    "    - 데이터의 분포 모양(예: 다봉분포)을 구체적으로 파악하기 어려움\n",
    "    - 큰 데이터셋에서의 미세한 차이를 구분하기 어려울 수 있음\n",
    "    - 모든 유형의 데이터셋에 적합하지 않을 수 있음 (예: 데이터 포인트가 너무 적은 경우)\n",
    "#### 상자 그림의 주요 구성 요소\n",
    "- 상자\n",
    "    - 상자의 아래쪽과 위쪽은 1사분위수(Q1)와 3사분위수(Q3)를 나타냄\n",
    "    - 상자의 길이는 IQR(Interquartile Range, 사분범위)라고 하며 데이터의 중간 50%를 나타냄\n",
    "- 중앙선\n",
    "    - 상자 내부의 선은 중앙값(median 또는 2사분위수)을 나타냄\n",
    "- 수염(Whiskers)\n",
    "    - 데이터의 분포 범위를 나타내는 선\n",
    "    - 아래 수염: Q1 - 1.5 * IQR\n",
    "    - 위 수염: Q3 + 1.5 * IQR\n",
    "- 이상치(Outlier)\n",
    "    - 수염 밖의 점으로 일반적인 분포 범위에서 크게 벗어난 값"
   ]
  },
  {
   "cell_type": "code",
   "execution_count": null,
   "id": "5b58fb1ebd10e914",
   "metadata": {
    "ExecuteTime": {
     "end_time": "2023-08-17T12:13:54.678201500Z",
     "start_time": "2023-08-17T12:13:54.439780100Z"
    }
   },
   "outputs": [],
   "source": [
    "import matplotlib.pyplot as plt\n",
    "import numpy as np\n",
    "# 데이터 예시\n",
    "data = np.array([1, 2, 3, 4, 5, 6, 7, 8, 9, 10, 11, 12, 13, 14, 15, 16, 30])\n",
    "\n",
    "# 박스플롯 생성\n",
    "plt.boxplot(data)\n",
    "plt.title('Box Plot')\n",
    "plt.show()"
   ]
  },
  {
   "cell_type": "code",
   "execution_count": null,
   "id": "89f98601415362b8",
   "metadata": {
    "ExecuteTime": {
     "end_time": "2023-08-17T12:24:23.369834100Z",
     "start_time": "2023-08-17T12:24:23.265793700Z"
    }
   },
   "outputs": [],
   "source": [
    "# 사분위수 계산\n",
    "q1 = np.percentile(data, 25)\n",
    "q2 = np.percentile(data, 50)\n",
    "q3 = np.percentile(data, 75)\n",
    "\n",
    "print(\"1사분위수: \", q1)\n",
    "print(\"2사분위수: \", q2)    # 2사분위수 == 중앙값\n",
    "print(\"3사분위수: \", q3)\n",
    "print(\"중앙값: \", np.median(data)) \n",
    "\n",
    "iqr = q3 - q1\n",
    "print(\"IQR: \", iqr)\n",
    "\n",
    "# 아랫수염\n",
    "lower = q1 - 1.5 * iqr\n",
    "# 윗수염\n",
    "upper = q3 + 1.5 * iqr\n",
    "print(\"아랫수염: \", lower)\n",
    "print(\"윗수염: \", upper)\n",
    "\n",
    "# 이상치\n",
    "outlier = data[(data < lower) | (data > upper)]\n",
    "print(\"이상치: \", outlier)"
   ]
  },
  {
   "cell_type": "markdown",
   "id": "cd79e9872511c549",
   "metadata": {},
   "source": [
    "#### 바이올린 그래프 (Violin Plot)\n",
    "- 특징\n",
    "    - KDE(Kernel Density Estimation)의 원리를 기반으로 데이터의 밀도를 시각화\n",
    "    - 박스 플롯과 유사한 정보를 포함하지만, 데이터의 분포 밀도를 좀 더 상세히 표현\n",
    "    - 데이터의 분포가 대칭이 아닐 때에도 그 분포의 형태를 잘 보여줌\n",
    "- 장점\n",
    "    - 데이터의 분포와 밀도를 한 눈에 파악할 수 있음\n",
    "    - 여러 그룹 간의 데이터 분포 비교에 유용\n",
    "    - 박스 플롯보다 데이터의 분포 형태에 대한 정보를 더 자세히 제공\n",
    "- 단점\n",
    "    - 처음 보는 사람들에게는 해석이 복잡하거나 이해하기 어려울 수 있음\n",
    "    - 데이터의 실제 수치를 정확하게 나타내지 않음\n",
    "    - 너무 많은 카테고리나 그룹이 있을 경우 시각적으로 복잡하게 보일 수 있음"
   ]
  },
  {
   "cell_type": "code",
   "execution_count": null,
   "id": "767c218e4f7c307f",
   "metadata": {
    "ExecuteTime": {
     "end_time": "2023-08-17T12:49:52.851355100Z",
     "start_time": "2023-08-17T12:49:52.421214100Z"
    }
   },
   "outputs": [],
   "source": [
    "import seaborn as sns\n",
    "import matplotlib.pyplot as plt\n",
    "\n",
    "tips = sns.load_dataset('tips')\n",
    "\n",
    "tips.shape  # 244 x 7\n",
    "tips.info()"
   ]
  },
  {
   "cell_type": "code",
   "execution_count": null,
   "id": "6deb369136f2931f",
   "metadata": {
    "ExecuteTime": {
     "end_time": "2023-08-17T12:53:11.094426200Z",
     "start_time": "2023-08-17T12:53:10.821997200Z"
    }
   },
   "outputs": [],
   "source": [
    "# 바이올린 플롯 그리기\n",
    "plt.figure(figsize=(10, 6))\n",
    "sns.violinplot(x=\"day\", y=\"total_bill\", data=tips)\n",
    "plt.title(\"Total Bill by Day\")\n",
    "plt.show()"
   ]
  },
  {
   "cell_type": "code",
   "execution_count": null,
   "id": "8858379115bb0eed",
   "metadata": {
    "ExecuteTime": {
     "end_time": "2023-08-17T12:58:26.584526500Z",
     "start_time": "2023-08-17T12:58:26.376604100Z"
    }
   },
   "outputs": [],
   "source": [
    "# 성별 및 흡연 여부에 따른 전체 계산 금액의 분포\n",
    "plt.figure(figsize=(12, 6))\n",
    "\n",
    "sns.violinplot(x=\"sex\", y=\"total_bill\", \n",
    "               hue=\"smoker\", \n",
    "               data=tips, \n",
    "               split=True, \n",
    "               inner=\"quart\", \n",
    "               palette=\"muted\")\n",
    "# sns.violinplot(x=\"smoker\", y=\"total_bill\", \n",
    "#                hue=\"sex\", \n",
    "#                data=tips, \n",
    "#                split=True, \n",
    "#                inner=\"quart\", \n",
    "#                palette=\"muted\")\n",
    "plt.title(\"Total Bill by Gender and Smoking Status\")\n",
    "plt.show()"
   ]
  },
  {
   "cell_type": "markdown",
   "id": "668e7301d64460fb",
   "metadata": {},
   "source": [
    "#### 히트맵 (Heatmap)\n",
    "- 히트맵의 특징\n",
    "    - 데이터의 값을 색상으로 나타내는 시각화 방법\n",
    "    - 행과 열로 구성된 2차원 테이블 형태의 데이터에 주로 사용\n",
    "    - 값의 상대적인 크기를 비교하거나 패턴을 파악하는 데 사용\n",
    "- 장점\n",
    "    - 데이터의 분포와 상관관계를 시각적으로 파악하기 용이\n",
    "    - 복잡한 데이터 구조에서 패턴이나 군집을 쉽게 식별할 수 있음\n",
    "    - 여러 변수 간의 관계를 동시에 분석할 수 있는 다중 변수 시각화에 적합\n",
    "- 단점\n",
    "    - 색상 선택이 중요하며, 부적절한 색상 사용은 오해를 초래할 수 있음\n",
    "    - 데이터 값의 정확한 수치를 파악하기 어려울 수 있음\n",
    "    - 고밀도 데이터의 경우 작은 셀 내의 정보 표현이 어려울 수 있음\n",
    "    - 너무 많은 변수를 함께 표현할 경우 가독성이 저하될 수 있음"
   ]
  },
  {
   "cell_type": "code",
   "execution_count": 2,
   "id": "dfb3601c",
   "metadata": {
    "ExecuteTime": {
     "end_time": "2023-08-19T03:53:11.202580300Z",
     "start_time": "2023-08-19T03:53:10.256692600Z"
    }
   },
   "outputs": [
    {
     "data": {
      "text/html": [
       "<div>\n",
       "<style scoped>\n",
       "    .dataframe tbody tr th:only-of-type {\n",
       "        vertical-align: middle;\n",
       "    }\n",
       "\n",
       "    .dataframe tbody tr th {\n",
       "        vertical-align: top;\n",
       "    }\n",
       "\n",
       "    .dataframe thead th {\n",
       "        text-align: right;\n",
       "    }\n",
       "</style>\n",
       "<table border=\"1\" class=\"dataframe\">\n",
       "  <thead>\n",
       "    <tr style=\"text-align: right;\">\n",
       "      <th></th>\n",
       "      <th>year</th>\n",
       "      <th>month</th>\n",
       "      <th>passengers</th>\n",
       "    </tr>\n",
       "  </thead>\n",
       "  <tbody>\n",
       "    <tr>\n",
       "      <th>0</th>\n",
       "      <td>1949</td>\n",
       "      <td>Jan</td>\n",
       "      <td>112</td>\n",
       "    </tr>\n",
       "    <tr>\n",
       "      <th>1</th>\n",
       "      <td>1949</td>\n",
       "      <td>Feb</td>\n",
       "      <td>118</td>\n",
       "    </tr>\n",
       "    <tr>\n",
       "      <th>2</th>\n",
       "      <td>1949</td>\n",
       "      <td>Mar</td>\n",
       "      <td>132</td>\n",
       "    </tr>\n",
       "    <tr>\n",
       "      <th>3</th>\n",
       "      <td>1949</td>\n",
       "      <td>Apr</td>\n",
       "      <td>129</td>\n",
       "    </tr>\n",
       "    <tr>\n",
       "      <th>4</th>\n",
       "      <td>1949</td>\n",
       "      <td>May</td>\n",
       "      <td>121</td>\n",
       "    </tr>\n",
       "    <tr>\n",
       "      <th>...</th>\n",
       "      <td>...</td>\n",
       "      <td>...</td>\n",
       "      <td>...</td>\n",
       "    </tr>\n",
       "    <tr>\n",
       "      <th>139</th>\n",
       "      <td>1960</td>\n",
       "      <td>Aug</td>\n",
       "      <td>606</td>\n",
       "    </tr>\n",
       "    <tr>\n",
       "      <th>140</th>\n",
       "      <td>1960</td>\n",
       "      <td>Sep</td>\n",
       "      <td>508</td>\n",
       "    </tr>\n",
       "    <tr>\n",
       "      <th>141</th>\n",
       "      <td>1960</td>\n",
       "      <td>Oct</td>\n",
       "      <td>461</td>\n",
       "    </tr>\n",
       "    <tr>\n",
       "      <th>142</th>\n",
       "      <td>1960</td>\n",
       "      <td>Nov</td>\n",
       "      <td>390</td>\n",
       "    </tr>\n",
       "    <tr>\n",
       "      <th>143</th>\n",
       "      <td>1960</td>\n",
       "      <td>Dec</td>\n",
       "      <td>432</td>\n",
       "    </tr>\n",
       "  </tbody>\n",
       "</table>\n",
       "<p>144 rows × 3 columns</p>\n",
       "</div>"
      ],
      "text/plain": [
       "     year month  passengers\n",
       "0    1949   Jan         112\n",
       "1    1949   Feb         118\n",
       "2    1949   Mar         132\n",
       "3    1949   Apr         129\n",
       "4    1949   May         121\n",
       "..    ...   ...         ...\n",
       "139  1960   Aug         606\n",
       "140  1960   Sep         508\n",
       "141  1960   Oct         461\n",
       "142  1960   Nov         390\n",
       "143  1960   Dec         432\n",
       "\n",
       "[144 rows x 3 columns]"
      ]
     },
     "execution_count": 2,
     "metadata": {},
     "output_type": "execute_result"
    }
   ],
   "source": [
    "#\n",
    "import seaborn as sns\n",
    "import matplotlib.pyplot as plt\n",
    "\n",
    "# 한글 폰트 세팅\n",
    "plt.rcParams['font.family'] = 'Malgun Gothic'\n",
    "# Seaborn의 샘플 데이터셋 불러오기\n",
    "flights_data = sns.load_dataset(\"flights\")\n",
    "flights_data"
   ]
  },
  {
   "cell_type": "code",
   "execution_count": 4,
   "id": "13245c11",
   "metadata": {
    "ExecuteTime": {
     "end_time": "2023-08-19T03:53:11.202580300Z",
     "start_time": "2023-08-19T03:53:10.256692600Z"
    }
   },
   "outputs": [
    {
     "data": {
      "text/html": [
       "<div>\n",
       "<style scoped>\n",
       "    .dataframe tbody tr th:only-of-type {\n",
       "        vertical-align: middle;\n",
       "    }\n",
       "\n",
       "    .dataframe tbody tr th {\n",
       "        vertical-align: top;\n",
       "    }\n",
       "\n",
       "    .dataframe thead th {\n",
       "        text-align: right;\n",
       "    }\n",
       "</style>\n",
       "<table border=\"1\" class=\"dataframe\">\n",
       "  <thead>\n",
       "    <tr style=\"text-align: right;\">\n",
       "      <th>year</th>\n",
       "      <th>1949</th>\n",
       "      <th>1950</th>\n",
       "      <th>1951</th>\n",
       "      <th>1952</th>\n",
       "      <th>1953</th>\n",
       "      <th>1954</th>\n",
       "      <th>1955</th>\n",
       "      <th>1956</th>\n",
       "      <th>1957</th>\n",
       "      <th>1958</th>\n",
       "      <th>1959</th>\n",
       "      <th>1960</th>\n",
       "    </tr>\n",
       "    <tr>\n",
       "      <th>month</th>\n",
       "      <th></th>\n",
       "      <th></th>\n",
       "      <th></th>\n",
       "      <th></th>\n",
       "      <th></th>\n",
       "      <th></th>\n",
       "      <th></th>\n",
       "      <th></th>\n",
       "      <th></th>\n",
       "      <th></th>\n",
       "      <th></th>\n",
       "      <th></th>\n",
       "    </tr>\n",
       "  </thead>\n",
       "  <tbody>\n",
       "    <tr>\n",
       "      <th>Jan</th>\n",
       "      <td>112</td>\n",
       "      <td>115</td>\n",
       "      <td>145</td>\n",
       "      <td>171</td>\n",
       "      <td>196</td>\n",
       "      <td>204</td>\n",
       "      <td>242</td>\n",
       "      <td>284</td>\n",
       "      <td>315</td>\n",
       "      <td>340</td>\n",
       "      <td>360</td>\n",
       "      <td>417</td>\n",
       "    </tr>\n",
       "    <tr>\n",
       "      <th>Feb</th>\n",
       "      <td>118</td>\n",
       "      <td>126</td>\n",
       "      <td>150</td>\n",
       "      <td>180</td>\n",
       "      <td>196</td>\n",
       "      <td>188</td>\n",
       "      <td>233</td>\n",
       "      <td>277</td>\n",
       "      <td>301</td>\n",
       "      <td>318</td>\n",
       "      <td>342</td>\n",
       "      <td>391</td>\n",
       "    </tr>\n",
       "    <tr>\n",
       "      <th>Mar</th>\n",
       "      <td>132</td>\n",
       "      <td>141</td>\n",
       "      <td>178</td>\n",
       "      <td>193</td>\n",
       "      <td>236</td>\n",
       "      <td>235</td>\n",
       "      <td>267</td>\n",
       "      <td>317</td>\n",
       "      <td>356</td>\n",
       "      <td>362</td>\n",
       "      <td>406</td>\n",
       "      <td>419</td>\n",
       "    </tr>\n",
       "    <tr>\n",
       "      <th>Apr</th>\n",
       "      <td>129</td>\n",
       "      <td>135</td>\n",
       "      <td>163</td>\n",
       "      <td>181</td>\n",
       "      <td>235</td>\n",
       "      <td>227</td>\n",
       "      <td>269</td>\n",
       "      <td>313</td>\n",
       "      <td>348</td>\n",
       "      <td>348</td>\n",
       "      <td>396</td>\n",
       "      <td>461</td>\n",
       "    </tr>\n",
       "    <tr>\n",
       "      <th>May</th>\n",
       "      <td>121</td>\n",
       "      <td>125</td>\n",
       "      <td>172</td>\n",
       "      <td>183</td>\n",
       "      <td>229</td>\n",
       "      <td>234</td>\n",
       "      <td>270</td>\n",
       "      <td>318</td>\n",
       "      <td>355</td>\n",
       "      <td>363</td>\n",
       "      <td>420</td>\n",
       "      <td>472</td>\n",
       "    </tr>\n",
       "    <tr>\n",
       "      <th>Jun</th>\n",
       "      <td>135</td>\n",
       "      <td>149</td>\n",
       "      <td>178</td>\n",
       "      <td>218</td>\n",
       "      <td>243</td>\n",
       "      <td>264</td>\n",
       "      <td>315</td>\n",
       "      <td>374</td>\n",
       "      <td>422</td>\n",
       "      <td>435</td>\n",
       "      <td>472</td>\n",
       "      <td>535</td>\n",
       "    </tr>\n",
       "    <tr>\n",
       "      <th>Jul</th>\n",
       "      <td>148</td>\n",
       "      <td>170</td>\n",
       "      <td>199</td>\n",
       "      <td>230</td>\n",
       "      <td>264</td>\n",
       "      <td>302</td>\n",
       "      <td>364</td>\n",
       "      <td>413</td>\n",
       "      <td>465</td>\n",
       "      <td>491</td>\n",
       "      <td>548</td>\n",
       "      <td>622</td>\n",
       "    </tr>\n",
       "    <tr>\n",
       "      <th>Aug</th>\n",
       "      <td>148</td>\n",
       "      <td>170</td>\n",
       "      <td>199</td>\n",
       "      <td>242</td>\n",
       "      <td>272</td>\n",
       "      <td>293</td>\n",
       "      <td>347</td>\n",
       "      <td>405</td>\n",
       "      <td>467</td>\n",
       "      <td>505</td>\n",
       "      <td>559</td>\n",
       "      <td>606</td>\n",
       "    </tr>\n",
       "    <tr>\n",
       "      <th>Sep</th>\n",
       "      <td>136</td>\n",
       "      <td>158</td>\n",
       "      <td>184</td>\n",
       "      <td>209</td>\n",
       "      <td>237</td>\n",
       "      <td>259</td>\n",
       "      <td>312</td>\n",
       "      <td>355</td>\n",
       "      <td>404</td>\n",
       "      <td>404</td>\n",
       "      <td>463</td>\n",
       "      <td>508</td>\n",
       "    </tr>\n",
       "    <tr>\n",
       "      <th>Oct</th>\n",
       "      <td>119</td>\n",
       "      <td>133</td>\n",
       "      <td>162</td>\n",
       "      <td>191</td>\n",
       "      <td>211</td>\n",
       "      <td>229</td>\n",
       "      <td>274</td>\n",
       "      <td>306</td>\n",
       "      <td>347</td>\n",
       "      <td>359</td>\n",
       "      <td>407</td>\n",
       "      <td>461</td>\n",
       "    </tr>\n",
       "    <tr>\n",
       "      <th>Nov</th>\n",
       "      <td>104</td>\n",
       "      <td>114</td>\n",
       "      <td>146</td>\n",
       "      <td>172</td>\n",
       "      <td>180</td>\n",
       "      <td>203</td>\n",
       "      <td>237</td>\n",
       "      <td>271</td>\n",
       "      <td>305</td>\n",
       "      <td>310</td>\n",
       "      <td>362</td>\n",
       "      <td>390</td>\n",
       "    </tr>\n",
       "    <tr>\n",
       "      <th>Dec</th>\n",
       "      <td>118</td>\n",
       "      <td>140</td>\n",
       "      <td>166</td>\n",
       "      <td>194</td>\n",
       "      <td>201</td>\n",
       "      <td>229</td>\n",
       "      <td>278</td>\n",
       "      <td>306</td>\n",
       "      <td>336</td>\n",
       "      <td>337</td>\n",
       "      <td>405</td>\n",
       "      <td>432</td>\n",
       "    </tr>\n",
       "  </tbody>\n",
       "</table>\n",
       "</div>"
      ],
      "text/plain": [
       "year   1949  1950  1951  1952  1953  1954  1955  1956  1957  1958  1959  1960\n",
       "month                                                                        \n",
       "Jan     112   115   145   171   196   204   242   284   315   340   360   417\n",
       "Feb     118   126   150   180   196   188   233   277   301   318   342   391\n",
       "Mar     132   141   178   193   236   235   267   317   356   362   406   419\n",
       "Apr     129   135   163   181   235   227   269   313   348   348   396   461\n",
       "May     121   125   172   183   229   234   270   318   355   363   420   472\n",
       "Jun     135   149   178   218   243   264   315   374   422   435   472   535\n",
       "Jul     148   170   199   230   264   302   364   413   465   491   548   622\n",
       "Aug     148   170   199   242   272   293   347   405   467   505   559   606\n",
       "Sep     136   158   184   209   237   259   312   355   404   404   463   508\n",
       "Oct     119   133   162   191   211   229   274   306   347   359   407   461\n",
       "Nov     104   114   146   172   180   203   237   271   305   310   362   390\n",
       "Dec     118   140   166   194   201   229   278   306   336   337   405   432"
      ]
     },
     "execution_count": 4,
     "metadata": {},
     "output_type": "execute_result"
    }
   ],
   "source": [
    "# 피벗 테이블 생성\n",
    "flights_pivot = flights_data.pivot_table(index=\"month\", columns=\"year\", values=\"passengers\")\n",
    "flights_pivot"
   ]
  },
  {
   "cell_type": "code",
   "execution_count": 3,
   "id": "b4a87d47330c3502",
   "metadata": {
    "ExecuteTime": {
     "end_time": "2023-08-19T03:53:11.202580300Z",
     "start_time": "2023-08-19T03:53:10.256692600Z"
    }
   },
   "outputs": [
    {
     "data": {
      "image/png": "[encoded data removed]",
      "text/plain": [
       "<Figure size 1000x600 with 2 Axes>"
      ]
     },
     "metadata": {},
     "output_type": "display_data"
    }
   ],
   "source": [
    "# Seaborn을 사용하여 히트맵 그리기\n",
    "plt.figure(figsize=(10, 6))\n",
    "sns.heatmap(flights_pivot, # 히트맵에 사용할 데이터\n",
    "            cmap=\"YlGnBu\", # 색상 맵 지정\n",
    "            annot=True, # 각 셀에 숫자 표시 여부\n",
    "            fmt=\"d\")    # 포맷 지정, d: 정수형\n",
    "plt.title(\"연도별 월별 항공편 수 히트맵\")\n",
    "plt.xlabel(\"연도\")\n",
    "plt.ylabel(\"월\")\n",
    "plt.show()"
   ]
  },
  {
   "cell_type": "code",
   "execution_count": null,
   "id": "735ba1971c404c25",
   "metadata": {},
   "outputs": [],
   "source": []
  }
 ],
 "metadata": {
  "kernelspec": {
   "display_name": "Python 3 (ipykernel)",
   "language": "python",
   "name": "python3"
  },
  "language_info": {
   "codemirror_mode": {
    "name": "ipython",
    "version": 3
   },
   "file_extension": ".py",
   "mimetype": "text/x-python",
   "name": "python",
   "nbconvert_exporter": "python",
   "pygments_lexer": "ipython3",
   "version": "3.10.9"
  }
 },
 "nbformat": 4,
 "nbformat_minor": 5
}
