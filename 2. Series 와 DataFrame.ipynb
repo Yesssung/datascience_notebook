{
 "cells": [
  {
   "cell_type": "code",
   "execution_count": 1,
   "id": "ed6788dc",
   "metadata": {},
   "outputs": [
    {
     "data": {
      "text/plain": [
       "0    피카츄\n",
       "1      5\n",
       "dtype: object"
      ]
     },
     "execution_count": 1,
     "metadata": {},
     "output_type": "execute_result"
    }
   ],
   "source": [
    "# Series 데이터 타입 : 동일 자료형을 가지는 1차원 데이터\n",
    "# Series가 모여서 DataFrame을 구성\n",
    "\n",
    "# 리스트 자료를 Series 클래스에 전달해서 생성\n",
    "import pandas as pd\n",
    "s = pd.Series([\"피카츄\", 5])\n",
    "s\n",
    "\n",
    "# 인덱스를 별도로 부여하지 않으면 0부터 자동으로 부여"
   ]
  },
  {
   "cell_type": "code",
   "execution_count": 3,
   "id": "6f5cc91a",
   "metadata": {},
   "outputs": [
    {
     "data": {
      "text/plain": [
       "Name    피카츄\n",
       "Age       5\n",
       "dtype: object"
      ]
     },
     "execution_count": 3,
     "metadata": {},
     "output_type": "execute_result"
    }
   ],
   "source": [
    "# 인덱스를 부여하고자 한다면 index 매개변수에 인덱스 목록을 제공\n",
    "s = pd.Series([\"피카츄\", 5], index=[\"Name\", \"Age\"])\n",
    "s"
   ]
  },
  {
   "cell_type": "code",
   "execution_count": 4,
   "id": "b3806444",
   "metadata": {},
   "outputs": [
    {
     "data": {
      "text/plain": [
       "('피카츄', 5)"
      ]
     },
     "execution_count": 4,
     "metadata": {},
     "output_type": "execute_result"
    }
   ],
   "source": [
    "# 시리즈에서 데이터 추출할 때, 인덱스 접근 가능\n",
    "s['Name'], s['Age']"
   ]
  },
  {
   "cell_type": "code",
   "execution_count": 5,
   "id": "4b82b6b1",
   "metadata": {},
   "outputs": [
    {
     "data": {
      "text/plain": [
       "Index(['Name', 'Age'], dtype='object')"
      ]
     },
     "execution_count": 5,
     "metadata": {},
     "output_type": "execute_result"
    }
   ],
   "source": [
    "s.index"
   ]
  },
  {
   "cell_type": "code",
   "execution_count": 8,
   "id": "6ae3e2d5",
   "metadata": {},
   "outputs": [
    {
     "data": {
      "text/plain": [
       "0       0\n",
       "1       2\n",
       "2       4\n",
       "3       6\n",
       "4       8\n",
       "5      10\n",
       "6      12\n",
       "7      14\n",
       "8      16\n",
       "9      18\n",
       "10     20\n",
       "11     22\n",
       "12     24\n",
       "13     26\n",
       "14     28\n",
       "15     30\n",
       "16     32\n",
       "17     34\n",
       "18     36\n",
       "19     38\n",
       "20     40\n",
       "21     42\n",
       "22     44\n",
       "23     46\n",
       "24     48\n",
       "25     50\n",
       "26     52\n",
       "27     54\n",
       "28     56\n",
       "29     58\n",
       "30     60\n",
       "31     62\n",
       "32     64\n",
       "33     66\n",
       "34     68\n",
       "35     70\n",
       "36     72\n",
       "37     74\n",
       "38     76\n",
       "39     78\n",
       "40     80\n",
       "41     82\n",
       "42     84\n",
       "43     86\n",
       "44     88\n",
       "45     90\n",
       "46     92\n",
       "47     94\n",
       "48     96\n",
       "49     98\n",
       "50    100\n",
       "dtype: int64"
      ]
     },
     "execution_count": 8,
     "metadata": {},
     "output_type": "execute_result"
    }
   ],
   "source": [
    "# range를 이용한 Series 생성\n",
    "# 0 ~ 100 까지 짝수의 Series\n",
    "s2 = pd.Series(range(0, 101, 2))\n",
    "s2"
   ]
  },
  {
   "cell_type": "code",
   "execution_count": 9,
   "id": "654d29e3",
   "metadata": {},
   "outputs": [
    {
     "name": "stdout",
     "output_type": "stream",
     "text": [
      "0     80\n",
      "1     75\n",
      "2     90\n",
      "3    100\n",
      "4     65\n",
      "dtype: int64\n"
     ]
    },
    {
     "data": {
      "text/plain": [
       "count      5.000000\n",
       "mean      82.000000\n",
       "std       13.509256\n",
       "min       65.000000\n",
       "25%       75.000000\n",
       "50%       80.000000\n",
       "75%       90.000000\n",
       "max      100.000000\n",
       "dtype: float64"
      ]
     },
     "execution_count": 9,
     "metadata": {},
     "output_type": "execute_result"
    }
   ],
   "source": [
    "# 숫자 데이터로 이루어진 Series라면 기초 통계량을 얻을 수 있음\n",
    "kor_s = pd.Series([80, 75, 90, 100, 65])        # 시리즈 생성\n",
    "print(kor_s)\n",
    "kor_s.describe()                                # 기초 통계량"
   ]
  },
  {
   "cell_type": "code",
   "execution_count": 10,
   "id": "29fb8bbb",
   "metadata": {},
   "outputs": [
    {
     "name": "stdout",
     "output_type": "stream",
     "text": [
      "65 100\n",
      "82.0 80.0\n",
      "<bound method NDFrame._add_numeric_operations.<locals>.std of 0     80\n",
      "1     75\n",
      "2     90\n",
      "3    100\n",
      "4     65\n",
      "dtype: int64>\n"
     ]
    }
   ],
   "source": [
    "# 통계량 함수\n",
    "print(kor_s.min(), kor_s.max())            # 최소값, 최대값\n",
    "print(kor_s.mean(), kor_s.median())        # 산술평균, 중앙값\n",
    "print(kor_s.std)                           # 표준편차"
   ]
  },
  {
   "cell_type": "code",
   "execution_count": 11,
   "id": "d5b9d945",
   "metadata": {},
   "outputs": [
    {
     "data": {
      "text/plain": [
       "0    False\n",
       "1    False\n",
       "2    False\n",
       "3     True\n",
       "4    False\n",
       "dtype: bool"
      ]
     },
     "execution_count": 11,
     "metadata": {},
     "output_type": "execute_result"
    }
   ],
   "source": [
    "# isin : 시리즈에 값이 포함되어있는지 여부를 판별하는 함수\n",
    "kor_s.isin([100])                  # 시리즈에 포함된 값이 있는지"
   ]
  },
  {
   "cell_type": "code",
   "execution_count": 13,
   "id": "90f581fa",
   "metadata": {},
   "outputs": [
    {
     "name": "stdout",
     "output_type": "stream",
     "text": [
      "0     1\n",
      "1     5\n",
      "2     8\n",
      "3     4\n",
      "4     6\n",
      "5     1\n",
      "6    10\n",
      "dtype: int64\n",
      "s2 * 2\n"
     ]
    }
   ],
   "source": [
    "# 시리즈의 연산 \n",
    "s2 = pd.Series([1, 5, 8, 4, 6, 1, 10])\n",
    "print(s2)\n",
    "\n",
    "# 시리즈와 스칼라 데이터의 연산(스칼라 데이터 : 더 이상 쪼갤 수 없는)\n",
    "print(\"s2 * 2\")"
   ]
  },
  {
   "cell_type": "code",
   "execution_count": 14,
   "id": "1953f63f",
   "metadata": {},
   "outputs": [
    {
     "data": {
      "text/plain": [
       "0     2\n",
       "1     7\n",
       "2    11\n",
       "3     8\n",
       "4    11\n",
       "5     7\n",
       "6    17\n",
       "dtype: int64"
      ]
     },
     "execution_count": 14,
     "metadata": {},
     "output_type": "execute_result"
    }
   ],
   "source": [
    "# 시리즈와 시리즈의 연산\n",
    "s3 = pd.Series([1, 2, 3, 4, 5, 6, 7])\n",
    "s2 + s3"
   ]
  },
  {
   "cell_type": "code",
   "execution_count": 16,
   "id": "5b28385a",
   "metadata": {},
   "outputs": [
    {
     "data": {
      "text/html": [
       "<div>\n",
       "<style scoped>\n",
       "    .dataframe tbody tr th:only-of-type {\n",
       "        vertical-align: middle;\n",
       "    }\n",
       "\n",
       "    .dataframe tbody tr th {\n",
       "        vertical-align: top;\n",
       "    }\n",
       "\n",
       "    .dataframe thead th {\n",
       "        text-align: right;\n",
       "    }\n",
       "</style>\n",
       "<table border=\"1\" class=\"dataframe\">\n",
       "  <thead>\n",
       "    <tr style=\"text-align: right;\">\n",
       "      <th></th>\n",
       "      <th>KOR</th>\n",
       "      <th>ENG</th>\n",
       "      <th>MATH</th>\n",
       "    </tr>\n",
       "  </thead>\n",
       "  <tbody>\n",
       "    <tr>\n",
       "      <th>신짱구</th>\n",
       "      <td>80</td>\n",
       "      <td>60</td>\n",
       "      <td>80</td>\n",
       "    </tr>\n",
       "    <tr>\n",
       "      <th>김철수</th>\n",
       "      <td>90</td>\n",
       "      <td>80</td>\n",
       "      <td>90</td>\n",
       "    </tr>\n",
       "    <tr>\n",
       "      <th>신유리</th>\n",
       "      <td>75</td>\n",
       "      <td>70</td>\n",
       "      <td>85</td>\n",
       "    </tr>\n",
       "  </tbody>\n",
       "</table>\n",
       "</div>"
      ],
      "text/plain": [
       "     KOR  ENG  MATH\n",
       "신짱구   80   60    80\n",
       "김철수   90   80    90\n",
       "신유리   75   70    85"
      ]
     },
     "execution_count": 16,
     "metadata": {},
     "output_type": "execute_result"
    }
   ],
   "source": [
    "# DataFrame\n",
    "# 각 컬럼 데이터가 Series로 구성된 2차원 테이블 데이터\n",
    "\n",
    "# 데이터 프레임 생성\n",
    "# 각 컬럼을 시리즈로 가지고 있는 딕셔너리를 부여하여 데이터 프레임 생성\n",
    "scores_df = pd.DataFrame({\n",
    "    \"KOR\": [80, 90, 75], \n",
    "    \"ENG\" : [60, 80, 70],\n",
    "    \"MATH\" : [80, 90, 85]\n",
    "}, index=[\"신짱구\", \"김철수\", \"신유리\" ])\n",
    "scores_df"
   ]
  },
  {
   "cell_type": "code",
   "execution_count": 17,
   "id": "768c90fd",
   "metadata": {},
   "outputs": [
    {
     "data": {
      "text/plain": [
       "Index(['신짱구', '김철수', '신유리'], dtype='object')"
      ]
     },
     "execution_count": 17,
     "metadata": {},
     "output_type": "execute_result"
    }
   ],
   "source": [
    "# 나중에 index를 부여하고자 할 때\n",
    "scores_df.index"
   ]
  },
  {
   "cell_type": "code",
   "execution_count": 18,
   "id": "d343b95b",
   "metadata": {},
   "outputs": [
    {
     "data": {
      "text/html": [
       "<div>\n",
       "<style scoped>\n",
       "    .dataframe tbody tr th:only-of-type {\n",
       "        vertical-align: middle;\n",
       "    }\n",
       "\n",
       "    .dataframe tbody tr th {\n",
       "        vertical-align: top;\n",
       "    }\n",
       "\n",
       "    .dataframe thead th {\n",
       "        text-align: right;\n",
       "    }\n",
       "</style>\n",
       "<table border=\"1\" class=\"dataframe\">\n",
       "  <thead>\n",
       "    <tr style=\"text-align: right;\">\n",
       "      <th></th>\n",
       "      <th>KOR</th>\n",
       "      <th>ENG</th>\n",
       "      <th>MATH</th>\n",
       "      <th>TOTAL</th>\n",
       "    </tr>\n",
       "  </thead>\n",
       "  <tbody>\n",
       "    <tr>\n",
       "      <th>신짱구</th>\n",
       "      <td>80</td>\n",
       "      <td>60</td>\n",
       "      <td>80</td>\n",
       "      <td>220</td>\n",
       "    </tr>\n",
       "    <tr>\n",
       "      <th>김철수</th>\n",
       "      <td>90</td>\n",
       "      <td>80</td>\n",
       "      <td>90</td>\n",
       "      <td>260</td>\n",
       "    </tr>\n",
       "    <tr>\n",
       "      <th>신유리</th>\n",
       "      <td>75</td>\n",
       "      <td>70</td>\n",
       "      <td>85</td>\n",
       "      <td>230</td>\n",
       "    </tr>\n",
       "  </tbody>\n",
       "</table>\n",
       "</div>"
      ],
      "text/plain": [
       "     KOR  ENG  MATH  TOTAL\n",
       "신짱구   80   60    80    220\n",
       "김철수   90   80    90    260\n",
       "신유리   75   70    85    230"
      ]
     },
     "execution_count": 18,
     "metadata": {},
     "output_type": "execute_result"
    }
   ],
   "source": [
    "# 파생 변수의 추가\n",
    "scores_df['TOTAL'] = scores_df['KOR'] + scores_df['ENG'] + scores_df['MATH']\n",
    "scores_df"
   ]
  },
  {
   "cell_type": "code",
   "execution_count": 19,
   "id": "f8abc5ae",
   "metadata": {},
   "outputs": [
    {
     "data": {
      "text/html": [
       "<div>\n",
       "<style scoped>\n",
       "    .dataframe tbody tr th:only-of-type {\n",
       "        vertical-align: middle;\n",
       "    }\n",
       "\n",
       "    .dataframe tbody tr th {\n",
       "        vertical-align: top;\n",
       "    }\n",
       "\n",
       "    .dataframe thead th {\n",
       "        text-align: right;\n",
       "    }\n",
       "</style>\n",
       "<table border=\"1\" class=\"dataframe\">\n",
       "  <thead>\n",
       "    <tr style=\"text-align: right;\">\n",
       "      <th></th>\n",
       "      <th>KOR</th>\n",
       "      <th>ENG</th>\n",
       "      <th>MATH</th>\n",
       "      <th>TOTAL</th>\n",
       "      <th>AVERAGE</th>\n",
       "    </tr>\n",
       "  </thead>\n",
       "  <tbody>\n",
       "    <tr>\n",
       "      <th>신짱구</th>\n",
       "      <td>80</td>\n",
       "      <td>60</td>\n",
       "      <td>80</td>\n",
       "      <td>220</td>\n",
       "      <td>73.333333</td>\n",
       "    </tr>\n",
       "    <tr>\n",
       "      <th>김철수</th>\n",
       "      <td>90</td>\n",
       "      <td>80</td>\n",
       "      <td>90</td>\n",
       "      <td>260</td>\n",
       "      <td>86.666667</td>\n",
       "    </tr>\n",
       "    <tr>\n",
       "      <th>신유리</th>\n",
       "      <td>75</td>\n",
       "      <td>70</td>\n",
       "      <td>85</td>\n",
       "      <td>230</td>\n",
       "      <td>76.666667</td>\n",
       "    </tr>\n",
       "  </tbody>\n",
       "</table>\n",
       "</div>"
      ],
      "text/plain": [
       "     KOR  ENG  MATH  TOTAL    AVERAGE\n",
       "신짱구   80   60    80    220  73.333333\n",
       "김철수   90   80    90    260  86.666667\n",
       "신유리   75   70    85    230  76.666667"
      ]
     },
     "execution_count": 19,
     "metadata": {},
     "output_type": "execute_result"
    }
   ],
   "source": [
    "scores_df['AVERAGE'] = scores_df['TOTAL'] / 3       # 시리즈와 스칼라의 연산 -> 브로드캐스팅\n",
    "scores_df"
   ]
  },
  {
   "cell_type": "code",
   "execution_count": 20,
   "id": "af817208",
   "metadata": {},
   "outputs": [
    {
     "data": {
      "text/plain": [
       "신짱구    False\n",
       "김철수     True\n",
       "신유리    False\n",
       "Name: AVERAGE, dtype: bool"
      ]
     },
     "execution_count": 20,
     "metadata": {},
     "output_type": "execute_result"
    }
   ],
   "source": [
    "# boolean 추출\n",
    "scores_df['AVERAGE'] > 80"
   ]
  },
  {
   "cell_type": "code",
   "execution_count": 21,
   "id": "d5764d84",
   "metadata": {},
   "outputs": [
    {
     "data": {
      "text/html": [
       "<div>\n",
       "<style scoped>\n",
       "    .dataframe tbody tr th:only-of-type {\n",
       "        vertical-align: middle;\n",
       "    }\n",
       "\n",
       "    .dataframe tbody tr th {\n",
       "        vertical-align: top;\n",
       "    }\n",
       "\n",
       "    .dataframe thead th {\n",
       "        text-align: right;\n",
       "    }\n",
       "</style>\n",
       "<table border=\"1\" class=\"dataframe\">\n",
       "  <thead>\n",
       "    <tr style=\"text-align: right;\">\n",
       "      <th></th>\n",
       "      <th>KOR</th>\n",
       "      <th>ENG</th>\n",
       "      <th>MATH</th>\n",
       "      <th>TOTAL</th>\n",
       "      <th>AVERAGE</th>\n",
       "    </tr>\n",
       "  </thead>\n",
       "  <tbody>\n",
       "    <tr>\n",
       "      <th>신짱구</th>\n",
       "      <td>80</td>\n",
       "      <td>60</td>\n",
       "      <td>80</td>\n",
       "      <td>220</td>\n",
       "      <td>73.333333</td>\n",
       "    </tr>\n",
       "    <tr>\n",
       "      <th>김철수</th>\n",
       "      <td>90</td>\n",
       "      <td>80</td>\n",
       "      <td>90</td>\n",
       "      <td>260</td>\n",
       "      <td>86.666667</td>\n",
       "    </tr>\n",
       "  </tbody>\n",
       "</table>\n",
       "</div>"
      ],
      "text/plain": [
       "     KOR  ENG  MATH  TOTAL    AVERAGE\n",
       "신짱구   80   60    80    220  73.333333\n",
       "김철수   90   80    90    260  86.666667"
      ]
     },
     "execution_count": 21,
     "metadata": {},
     "output_type": "execute_result"
    }
   ],
   "source": [
    "scores_df[[True, True, False]]"
   ]
  },
  {
   "cell_type": "code",
   "execution_count": 22,
   "id": "649d682b",
   "metadata": {},
   "outputs": [
    {
     "data": {
      "text/html": [
       "<div>\n",
       "<style scoped>\n",
       "    .dataframe tbody tr th:only-of-type {\n",
       "        vertical-align: middle;\n",
       "    }\n",
       "\n",
       "    .dataframe tbody tr th {\n",
       "        vertical-align: top;\n",
       "    }\n",
       "\n",
       "    .dataframe thead th {\n",
       "        text-align: right;\n",
       "    }\n",
       "</style>\n",
       "<table border=\"1\" class=\"dataframe\">\n",
       "  <thead>\n",
       "    <tr style=\"text-align: right;\">\n",
       "      <th></th>\n",
       "      <th>KOR</th>\n",
       "      <th>ENG</th>\n",
       "      <th>MATH</th>\n",
       "      <th>TOTAL</th>\n",
       "      <th>AVERAGE</th>\n",
       "    </tr>\n",
       "  </thead>\n",
       "  <tbody>\n",
       "    <tr>\n",
       "      <th>김철수</th>\n",
       "      <td>90</td>\n",
       "      <td>80</td>\n",
       "      <td>90</td>\n",
       "      <td>260</td>\n",
       "      <td>86.666667</td>\n",
       "    </tr>\n",
       "  </tbody>\n",
       "</table>\n",
       "</div>"
      ],
      "text/plain": [
       "     KOR  ENG  MATH  TOTAL    AVERAGE\n",
       "김철수   90   80    90    260  86.666667"
      ]
     },
     "execution_count": 22,
     "metadata": {},
     "output_type": "execute_result"
    }
   ],
   "source": [
    "# boolean 추출\n",
    "# scores_df 에서 AVERAGE가 80점 초과 데이터들만 추출\n",
    "filtered_df = scores_df[scores_df['AVERAGE'] > 80]\n",
    "filtered_df"
   ]
  },
  {
   "cell_type": "code",
   "execution_count": 3,
   "id": "500d4986",
   "metadata": {},
   "outputs": [
    {
     "data": {
      "text/html": [
       "<div>\n",
       "<style scoped>\n",
       "    .dataframe tbody tr th:only-of-type {\n",
       "        vertical-align: middle;\n",
       "    }\n",
       "\n",
       "    .dataframe tbody tr th {\n",
       "        vertical-align: top;\n",
       "    }\n",
       "\n",
       "    .dataframe thead th {\n",
       "        text-align: right;\n",
       "    }\n",
       "</style>\n",
       "<table border=\"1\" class=\"dataframe\">\n",
       "  <thead>\n",
       "    <tr style=\"text-align: right;\">\n",
       "      <th></th>\n",
       "      <th>0</th>\n",
       "      <th>1</th>\n",
       "      <th>2</th>\n",
       "    </tr>\n",
       "  </thead>\n",
       "  <tbody>\n",
       "    <tr>\n",
       "      <th>0</th>\n",
       "      <td>홍길동</td>\n",
       "      <td>175.8</td>\n",
       "      <td>73.2</td>\n",
       "    </tr>\n",
       "    <tr>\n",
       "      <th>1</th>\n",
       "      <td>전우치</td>\n",
       "      <td>170.2</td>\n",
       "      <td>66.3</td>\n",
       "    </tr>\n",
       "    <tr>\n",
       "      <th>2</th>\n",
       "      <td>임꺽정</td>\n",
       "      <td>186.7</td>\n",
       "      <td>88.2</td>\n",
       "    </tr>\n",
       "    <tr>\n",
       "      <th>3</th>\n",
       "      <td>장길산</td>\n",
       "      <td>188.3</td>\n",
       "      <td>90.0</td>\n",
       "    </tr>\n",
       "  </tbody>\n",
       "</table>\n",
       "</div>"
      ],
      "text/plain": [
       "     0      1     2\n",
       "0  홍길동  175.8  73.2\n",
       "1  전우치  170.2  66.3\n",
       "2  임꺽정  186.7  88.2\n",
       "3  장길산  188.3  90.0"
      ]
     },
     "execution_count": 3,
     "metadata": {},
     "output_type": "execute_result"
    }
   ],
   "source": [
    "# .data/thieves.txt 를 불러서 정제과정 -> thieves.cvs 저장\n",
    "import pandas as pd\n",
    "thieves_df = pd.read_csv(\"./data/thieves.txt\", header=None,        # 데이터에 header가 없음\n",
    "                                               sep=\"\\t\")           # 데이터가 탭으로 구분되어 있음을 알림\n",
    "thieves_df"
   ]
  },
  {
   "cell_type": "code",
   "execution_count": 3,
   "id": "c9b75ea3",
   "metadata": {},
   "outputs": [
    {
     "data": {
      "text/html": [
       "<div>\n",
       "<style scoped>\n",
       "    .dataframe tbody tr th:only-of-type {\n",
       "        vertical-align: middle;\n",
       "    }\n",
       "\n",
       "    .dataframe tbody tr th {\n",
       "        vertical-align: top;\n",
       "    }\n",
       "\n",
       "    .dataframe thead th {\n",
       "        text-align: right;\n",
       "    }\n",
       "</style>\n",
       "<table border=\"1\" class=\"dataframe\">\n",
       "  <thead>\n",
       "    <tr style=\"text-align: right;\">\n",
       "      <th></th>\n",
       "      <th>1</th>\n",
       "      <th>2</th>\n",
       "    </tr>\n",
       "    <tr>\n",
       "      <th>0</th>\n",
       "      <th></th>\n",
       "      <th></th>\n",
       "    </tr>\n",
       "  </thead>\n",
       "  <tbody>\n",
       "    <tr>\n",
       "      <th>홍길동</th>\n",
       "      <td>175.8</td>\n",
       "      <td>73.2</td>\n",
       "    </tr>\n",
       "    <tr>\n",
       "      <th>전우치</th>\n",
       "      <td>170.2</td>\n",
       "      <td>66.3</td>\n",
       "    </tr>\n",
       "    <tr>\n",
       "      <th>임꺽정</th>\n",
       "      <td>186.7</td>\n",
       "      <td>88.2</td>\n",
       "    </tr>\n",
       "    <tr>\n",
       "      <th>장길산</th>\n",
       "      <td>188.3</td>\n",
       "      <td>90.0</td>\n",
       "    </tr>\n",
       "  </tbody>\n",
       "</table>\n",
       "</div>"
      ],
      "text/plain": [
       "         1     2\n",
       "0               \n",
       "홍길동  175.8  73.2\n",
       "전우치  170.2  66.3\n",
       "임꺽정  186.7  88.2\n",
       "장길산  188.3  90.0"
      ]
     },
     "execution_count": 3,
     "metadata": {},
     "output_type": "execute_result"
    }
   ],
   "source": [
    "# 첫번째 컬럼은 인덱스로 활용\n",
    "import pandas as pd\n",
    "thieves_df2 = pd.read_csv(\"./data/thieves.txt\", header = None, sep=\"\\t\", index_col=0)    # 첫번째 컬럼을 인덱스 컬럼으로 활용\n",
    "thieves_df2"
   ]
  },
  {
   "cell_type": "code",
   "execution_count": 4,
   "id": "9f81c62b",
   "metadata": {},
   "outputs": [
    {
     "data": {
      "text/plain": [
       "1    175.8\n",
       "2     73.2\n",
       "Name: 홍길동, dtype: float64"
      ]
     },
     "execution_count": 4,
     "metadata": {},
     "output_type": "execute_result"
    }
   ],
   "source": [
    "thieves_df2.loc['홍길동']"
   ]
  },
  {
   "cell_type": "code",
   "execution_count": 5,
   "id": "cdd7b691",
   "metadata": {},
   "outputs": [
    {
     "name": "stdout",
     "output_type": "stream",
     "text": [
      "Columns: Int64Index([1, 2], dtype='int64')\n"
     ]
    }
   ],
   "source": [
    "# 컬럼 정보 확인\n",
    "print(\"Columns:\", thieves_df2.columns)"
   ]
  },
  {
   "cell_type": "code",
   "execution_count": 6,
   "id": "d8737c9f",
   "metadata": {},
   "outputs": [
    {
     "data": {
      "text/html": [
       "<div>\n",
       "<style scoped>\n",
       "    .dataframe tbody tr th:only-of-type {\n",
       "        vertical-align: middle;\n",
       "    }\n",
       "\n",
       "    .dataframe tbody tr th {\n",
       "        vertical-align: top;\n",
       "    }\n",
       "\n",
       "    .dataframe thead th {\n",
       "        text-align: right;\n",
       "    }\n",
       "</style>\n",
       "<table border=\"1\" class=\"dataframe\">\n",
       "  <thead>\n",
       "    <tr style=\"text-align: right;\">\n",
       "      <th></th>\n",
       "      <th>height</th>\n",
       "      <th>weight</th>\n",
       "    </tr>\n",
       "    <tr>\n",
       "      <th>0</th>\n",
       "      <th></th>\n",
       "      <th></th>\n",
       "    </tr>\n",
       "  </thead>\n",
       "  <tbody>\n",
       "    <tr>\n",
       "      <th>홍길동</th>\n",
       "      <td>175.8</td>\n",
       "      <td>73.2</td>\n",
       "    </tr>\n",
       "    <tr>\n",
       "      <th>전우치</th>\n",
       "      <td>170.2</td>\n",
       "      <td>66.3</td>\n",
       "    </tr>\n",
       "    <tr>\n",
       "      <th>임꺽정</th>\n",
       "      <td>186.7</td>\n",
       "      <td>88.2</td>\n",
       "    </tr>\n",
       "    <tr>\n",
       "      <th>장길산</th>\n",
       "      <td>188.3</td>\n",
       "      <td>90.0</td>\n",
       "    </tr>\n",
       "  </tbody>\n",
       "</table>\n",
       "</div>"
      ],
      "text/plain": [
       "     height  weight\n",
       "0                  \n",
       "홍길동   175.8    73.2\n",
       "전우치   170.2    66.3\n",
       "임꺽정   186.7    88.2\n",
       "장길산   188.3    90.0"
      ]
     },
     "execution_count": 6,
     "metadata": {},
     "output_type": "execute_result"
    }
   ],
   "source": [
    "thieves_df2.columns = [\"height\", \"weight\"]\n",
    "thieves_df2"
   ]
  },
  {
   "cell_type": "code",
   "execution_count": 7,
   "id": "368e1927",
   "metadata": {},
   "outputs": [
    {
     "data": {
      "text/html": [
       "<div>\n",
       "<style scoped>\n",
       "    .dataframe tbody tr th:only-of-type {\n",
       "        vertical-align: middle;\n",
       "    }\n",
       "\n",
       "    .dataframe tbody tr th {\n",
       "        vertical-align: top;\n",
       "    }\n",
       "\n",
       "    .dataframe thead th {\n",
       "        text-align: right;\n",
       "    }\n",
       "</style>\n",
       "<table border=\"1\" class=\"dataframe\">\n",
       "  <thead>\n",
       "    <tr style=\"text-align: right;\">\n",
       "      <th></th>\n",
       "      <th>height</th>\n",
       "      <th>weight</th>\n",
       "    </tr>\n",
       "    <tr>\n",
       "      <th>Name</th>\n",
       "      <th></th>\n",
       "      <th></th>\n",
       "    </tr>\n",
       "  </thead>\n",
       "  <tbody>\n",
       "    <tr>\n",
       "      <th>홍길동</th>\n",
       "      <td>175.8</td>\n",
       "      <td>73.2</td>\n",
       "    </tr>\n",
       "    <tr>\n",
       "      <th>전우치</th>\n",
       "      <td>170.2</td>\n",
       "      <td>66.3</td>\n",
       "    </tr>\n",
       "    <tr>\n",
       "      <th>임꺽정</th>\n",
       "      <td>186.7</td>\n",
       "      <td>88.2</td>\n",
       "    </tr>\n",
       "    <tr>\n",
       "      <th>장길산</th>\n",
       "      <td>188.3</td>\n",
       "      <td>90.0</td>\n",
       "    </tr>\n",
       "  </tbody>\n",
       "</table>\n",
       "</div>"
      ],
      "text/plain": [
       "      height  weight\n",
       "Name                \n",
       "홍길동    175.8    73.2\n",
       "전우치    170.2    66.3\n",
       "임꺽정    186.7    88.2\n",
       "장길산    188.3    90.0"
      ]
     },
     "execution_count": 7,
     "metadata": {},
     "output_type": "execute_result"
    }
   ],
   "source": [
    "# 인덱스의 컬럼명 변경\n",
    "thieves_df2.index.name = \"Name\"\n",
    "thieves_df2"
   ]
  },
  {
   "cell_type": "code",
   "execution_count": 8,
   "id": "694b5eba",
   "metadata": {},
   "outputs": [],
   "source": [
    "# 완성된 데이터를 /data/thieves_modify.csv\n",
    "thieves_df2.to_csv(\"./data/thieves_modify.csv\", encoding=\"utf-8\")"
   ]
  },
  {
   "cell_type": "code",
   "execution_count": 9,
   "id": "427ecaf6",
   "metadata": {},
   "outputs": [
    {
     "data": {
      "text/plain": [
       "0     90.0\n",
       "1     80.0\n",
       "2    120.0\n",
       "3      NaN\n",
       "4     95.0\n",
       "5     80.0\n",
       "6    -10.0\n",
       "dtype: float64"
      ]
     },
     "execution_count": 9,
     "metadata": {},
     "output_type": "execute_result"
    }
   ],
   "source": [
    "# 결측치 : 비어있는 데이터\n",
    "import pandas as pd\n",
    "from numpy import nan, NaN, NAN\n",
    "\n",
    "exam_scores = pd.Series([90, 80, 120, nan, 95, 80, -10])\n",
    "exam_scores"
   ]
  },
  {
   "cell_type": "code",
   "execution_count": 12,
   "id": "30c7c411",
   "metadata": {},
   "outputs": [
    {
     "name": "stdout",
     "output_type": "stream",
     "text": [
      "0    False\n",
      "1    False\n",
      "2    False\n",
      "3     True\n",
      "4    False\n",
      "5    False\n",
      "6    False\n",
      "dtype: bool\n"
     ]
    },
    {
     "data": {
      "text/plain": [
       "0     True\n",
       "1     True\n",
       "2     True\n",
       "3    False\n",
       "4     True\n",
       "5     True\n",
       "6     True\n",
       "dtype: bool"
      ]
     },
     "execution_count": 12,
     "metadata": {},
     "output_type": "execute_result"
    }
   ],
   "source": [
    "# 결측치 확인\n",
    "print(pd.isnull(exam_scores))      # 각 값이 비어있나? -> 비교했을 때 3은 비어있기 때문에 true로 출력\n",
    "# 결측치가 아닌거 확인\n",
    "pd.notnull(exam_scores)            # 값이 비어있지 않다"
   ]
  },
  {
   "cell_type": "code",
   "execution_count": 14,
   "id": "10b34448",
   "metadata": {},
   "outputs": [
    {
     "name": "stdout",
     "output_type": "stream",
     "text": [
      "결측 빈도: 1\n"
     ]
    }
   ],
   "source": [
    "# 결측 빈도 확인 : count_nonzero\n",
    "import numpy as np\n",
    "print(\"결측 빈도:\", np.count_nonzero(exam_scores.isnull()))"
   ]
  },
  {
   "cell_type": "code",
   "execution_count": 16,
   "id": "8d58ede4",
   "metadata": {},
   "outputs": [
    {
     "data": {
      "text/plain": [
       "0    False\n",
       "1    False\n",
       "2     True\n",
       "3     True\n",
       "4    False\n",
       "5    False\n",
       "6     True\n",
       "dtype: bool"
      ]
     },
     "execution_count": 16,
     "metadata": {},
     "output_type": "execute_result"
    }
   ],
   "source": [
    "# 이상치를 결측치로 대체 하고\n",
    "# 결측치를 중앙값으로 대체해서\n",
    "# 최종평균값 출력\n",
    "\n",
    "# 이상치 -> 결측치\n",
    "exam_scores.isin(range(0, 101))          # 0 ~ 100 사이에 있는지 확인하기\n",
    "~ exam_scores.isin(range(0, 101))        # 0 ~ 100 사이 범주를 벗어난 데이트 판별"
   ]
  },
  {
   "cell_type": "code",
   "execution_count": 17,
   "id": "6a0c36fe",
   "metadata": {},
   "outputs": [
    {
     "data": {
      "text/plain": [
       "0    90.0\n",
       "1    80.0\n",
       "2     NaN\n",
       "3     NaN\n",
       "4    95.0\n",
       "5    80.0\n",
       "6     NaN\n",
       "dtype: float64"
      ]
     },
     "execution_count": 17,
     "metadata": {},
     "output_type": "execute_result"
    }
   ],
   "source": [
    "# 이상치 -> 결측치\n",
    "exam_scores[~exam_scores.isin(range(0, 101))] = nan\n",
    "exam_scores"
   ]
  },
  {
   "cell_type": "code",
   "execution_count": 20,
   "id": "470cb2ef",
   "metadata": {},
   "outputs": [
    {
     "name": "stdout",
     "output_type": "stream",
     "text": [
      "기초통계량:\n",
      " count     4.00\n",
      "mean     86.25\n",
      "std       7.50\n",
      "min      80.00\n",
      "25%      80.00\n",
      "50%      85.00\n",
      "75%      91.25\n",
      "max      95.00\n",
      "dtype: float64\n",
      "산술평균: 86.25\n"
     ]
    }
   ],
   "source": [
    "# 이상치를 결측치로 대채한 데이터셋의 통계\n",
    "print(\"기초통계량:\\n\", exam_scores.describe())\n",
    "print(\"산술평균:\", exam_scores.mean())"
   ]
  },
  {
   "cell_type": "code",
   "execution_count": 23,
   "id": "7644c4c1",
   "metadata": {},
   "outputs": [
    {
     "data": {
      "text/plain": [
       "0    90.0\n",
       "1    80.0\n",
       "2    85.0\n",
       "3    85.0\n",
       "4    95.0\n",
       "5    80.0\n",
       "6    85.0\n",
       "dtype: float64"
      ]
     },
     "execution_count": 23,
     "metadata": {},
     "output_type": "execute_result"
    }
   ],
   "source": [
    "# 결측치 -> 중앙값\n",
    "exam_scores[exam_scores.isnull()] = exam_scores.median()\n",
    "exam_scores"
   ]
  },
  {
   "cell_type": "code",
   "execution_count": 25,
   "id": "0ed1833a",
   "metadata": {},
   "outputs": [
    {
     "name": "stdout",
     "output_type": "stream",
     "text": [
      "평균: 85.71428571428571\n"
     ]
    }
   ],
   "source": [
    "# 결측치를 중앙값으로 대체한 데이터셋의 평균\n",
    "print(\"평균:\", exam_scores.mean())"
   ]
  },
  {
   "cell_type": "code",
   "execution_count": null,
   "id": "a03b56c8",
   "metadata": {},
   "outputs": [],
   "source": []
  }
 ],
 "metadata": {
  "kernelspec": {
   "display_name": "Python 3 (ipykernel)",
   "language": "python",
   "name": "python3"
  },
  "language_info": {
   "codemirror_mode": {
    "name": "ipython",
    "version": 3
   },
   "file_extension": ".py",
   "mimetype": "text/x-python",
   "name": "python",
   "nbconvert_exporter": "python",
   "pygments_lexer": "ipython3",
   "version": "3.10.9"
  }
 },
 "nbformat": 4,
 "nbformat_minor": 5
}
