{
 "cells": [
  {
   "cell_type": "code",
   "execution_count": 1,
   "id": "ed6788dc",
   "metadata": {},
   "outputs": [
    {
     "data": {
      "text/plain": [
       "0    피카츄\n",
       "1      5\n",
       "dtype: object"
      ]
     },
     "execution_count": 1,
     "metadata": {},
     "output_type": "execute_result"
    }
   ],
   "source": [
    "# Series 데이터 타입 : 동일 자료형을 가지는 1차원 데이터\n",
    "# Series가 모여서 DataFrame을 구성\n",
    "\n",
    "# 리스트 자료를 Series 클래스에 전달해서 생성\n",
    "import pandas as pd\n",
    "s = pd.Series([\"피카츄\", 5])\n",
    "s\n",
    "\n",
    "# 인덱스를 별도로 부여하지 않으면 0부터 자동으로 부여"
   ]
  },
  {
   "cell_type": "code",
   "execution_count": 2,
   "id": "6f5cc91a",
   "metadata": {},
   "outputs": [
    {
     "data": {
      "text/plain": [
       "Name    피카츄\n",
       "Age       5\n",
       "dtype: object"
      ]
     },
     "execution_count": 2,
     "metadata": {},
     "output_type": "execute_result"
    }
   ],
   "source": [
    "# 인덱스를 부여하고자 한다면 index 매개변수에 인덱스 목록을 제공\n",
    "s = pd.Series([\"피카츄\", 5], index=[\"Name\", \"Age\"])\n",
    "s"
   ]
  },
  {
   "cell_type": "code",
   "execution_count": null,
   "id": "b3806444",
   "metadata": {},
   "outputs": [],
   "source": [
    "# 시리즈에서 데이터 추출할 때, 인덱스 접근 가능\n",
    "s['Name'], s['Age']"
   ]
  },
  {
   "cell_type": "code",
   "execution_count": null,
   "id": "4b82b6b1",
   "metadata": {},
   "outputs": [],
   "source": [
    "s.index"
   ]
  },
  {
   "cell_type": "code",
   "execution_count": null,
   "id": "6ae3e2d5",
   "metadata": {},
   "outputs": [],
   "source": [
    "# range를 이용한 Series 생성\n",
    "# 0 ~ 100 까지 짝수의 Series\n",
    "s2 = pd.Series(range(0, 101, 2))\n",
    "s2"
   ]
  },
  {
   "cell_type": "code",
   "execution_count": null,
   "id": "654d29e3",
   "metadata": {},
   "outputs": [],
   "source": [
    "# 숫자 데이터로 이루어진 Series라면 기초 통계량을 얻을 수 있음\n",
    "kor_s = pd.Series([80, 75, 90, 100, 65])        # 시리즈 생성\n",
    "print(kor_s)\n",
    "kor_s.describe()                                # 기초 통계량"
   ]
  },
  {
   "cell_type": "code",
   "execution_count": null,
   "id": "29fb8bbb",
   "metadata": {},
   "outputs": [],
   "source": [
    "# 통계량 함수\n",
    "print(kor_s.min(), kor_s.max())            # 최소값, 최대값\n",
    "print(kor_s.mean(), kor_s.median())        # 산술평균, 중앙값\n",
    "print(kor_s.std)                           # 표준편차"
   ]
  },
  {
   "cell_type": "code",
   "execution_count": null,
   "id": "d5b9d945",
   "metadata": {},
   "outputs": [],
   "source": [
    "# isin : 시리즈에 값이 포함되어있는지 여부를 판별하는 함수\n",
    "kor_s.isin([100])                  # 시리즈에 포함된 값이 있는지"
   ]
  },
  {
   "cell_type": "code",
   "execution_count": null,
   "id": "90f581fa",
   "metadata": {},
   "outputs": [],
   "source": [
    "# 시리즈의 연산 \n",
    "s2 = pd.Series([1, 5, 8, 4, 6, 1, 10])\n",
    "print(s2)\n",
    "\n",
    "# 시리즈와 스칼라 데이터의 연산(스칼라 데이터 : 더 이상 쪼갤 수 없는)\n",
    "print(\"s2 * 2\")"
   ]
  },
  {
   "cell_type": "code",
   "execution_count": null,
   "id": "1953f63f",
   "metadata": {},
   "outputs": [],
   "source": [
    "# 시리즈와 시리즈의 연산\n",
    "s3 = pd.Series([1, 2, 3, 4, 5, 6, 7])\n",
    "s2 + s3"
   ]
  },
  {
   "cell_type": "code",
   "execution_count": null,
   "id": "5b28385a",
   "metadata": {},
   "outputs": [],
   "source": [
    "# DataFrame\n",
    "# 각 컬럼 데이터가 Series로 구성된 2차원 테이블 데이터\n",
    "\n",
    "# 데이터 프레임 생성\n",
    "# 각 컬럼을 시리즈로 가지고 있는 딕셔너리를 부여하여 데이터 프레임 생성\n",
    "scores_df = pd.DataFrame({\n",
    "    \"KOR\": [80, 90, 75], \n",
    "    \"ENG\" : [60, 80, 70],\n",
    "    \"MATH\" : [80, 90, 85]\n",
    "}, index=[\"신짱구\", \"김철수\", \"신유리\" ])\n",
    "scores_df"
   ]
  },
  {
   "cell_type": "code",
   "execution_count": null,
   "id": "768c90fd",
   "metadata": {},
   "outputs": [],
   "source": [
    "# 나중에 index를 부여하고자 할 때\n",
    "scores_df.index"
   ]
  },
  {
   "cell_type": "code",
   "execution_count": null,
   "id": "d343b95b",
   "metadata": {},
   "outputs": [],
   "source": [
    "# 파생 변수의 추가\n",
    "scores_df['TOTAL'] = scores_df['KOR'] + scores_df['ENG'] + scores_df['MATH']\n",
    "scores_df"
   ]
  },
  {
   "cell_type": "code",
   "execution_count": null,
   "id": "f8abc5ae",
   "metadata": {},
   "outputs": [],
   "source": [
    "scores_df['AVERAGE'] = scores_df['TOTAL'] / 3       # 시리즈와 스칼라의 연산 -> 브로드캐스팅\n",
    "scores_df"
   ]
  },
  {
   "cell_type": "code",
   "execution_count": null,
   "id": "af817208",
   "metadata": {},
   "outputs": [],
   "source": [
    "# boolean 추출\n",
    "scores_df['AVERAGE'] > 80"
   ]
  },
  {
   "cell_type": "code",
   "execution_count": null,
   "id": "d5764d84",
   "metadata": {},
   "outputs": [],
   "source": [
    "scores_df[[True, True, False]]"
   ]
  },
  {
   "cell_type": "code",
   "execution_count": null,
   "id": "649d682b",
   "metadata": {},
   "outputs": [],
   "source": [
    "# boolean 추출\n",
    "# scores_df 에서 AVERAGE가 80점 초과 데이터들만 추출\n",
    "filtered_df = scores_df[scores_df['AVERAGE'] > 80]\n",
    "filtered_df"
   ]
  },
  {
   "cell_type": "code",
   "execution_count": null,
   "id": "500d4986",
   "metadata": {},
   "outputs": [],
   "source": [
    "# .data/thieves.txt 를 불러서 정제과정 -> thieves.cvs 저장\n",
    "import pandas as pd\n",
    "thieves_df = pd.read_csv(\"./data/thieves.txt\", header=None,        # 데이터에 header가 없음\n",
    "                                               sep=\"\\t\")           # 데이터가 탭으로 구분되어 있음을 알림\n",
    "thieves_df"
   ]
  },
  {
   "cell_type": "code",
   "execution_count": null,
   "id": "c9b75ea3",
   "metadata": {},
   "outputs": [],
   "source": [
    "# 첫번째 컬럼은 인덱스로 활용\n",
    "import pandas as pd\n",
    "thieves_df2 = pd.read_csv(\"./data/thieves.txt\", header = None, sep=\"\\t\", index_col=0)    # 첫번째 컬럼을 인덱스 컬럼으로 활용\n",
    "thieves_df2"
   ]
  },
  {
   "cell_type": "code",
   "execution_count": null,
   "id": "9f81c62b",
   "metadata": {},
   "outputs": [],
   "source": [
    "thieves_df2.loc['홍길동']"
   ]
  },
  {
   "cell_type": "code",
   "execution_count": null,
   "id": "cdd7b691",
   "metadata": {},
   "outputs": [],
   "source": [
    "# 컬럼 정보 확인\n",
    "print(\"Columns:\", thieves_df2.columns)"
   ]
  },
  {
   "cell_type": "code",
   "execution_count": null,
   "id": "d8737c9f",
   "metadata": {},
   "outputs": [],
   "source": [
    "thieves_df2.columns = [\"height\", \"weight\"]\n",
    "thieves_df2"
   ]
  },
  {
   "cell_type": "code",
   "execution_count": null,
   "id": "368e1927",
   "metadata": {},
   "outputs": [],
   "source": [
    "# 인덱스의 컬럼명 변경\n",
    "thieves_df2.index.name = \"Name\"\n",
    "thieves_df2"
   ]
  },
  {
   "cell_type": "code",
   "execution_count": null,
   "id": "694b5eba",
   "metadata": {},
   "outputs": [],
   "source": [
    "# 완성된 데이터를 /data/thieves_modify.csv\n",
    "thieves_df2.to_csv(\"./data/thieves_modify.csv\", encoding=\"utf-8\")"
   ]
  },
  {
   "cell_type": "code",
   "execution_count": null,
   "id": "427ecaf6",
   "metadata": {},
   "outputs": [],
   "source": [
    "# 결측치 : 비어있는 데이터\n",
    "import pandas as pd\n",
    "from numpy import nan, NaN, NAN\n",
    "\n",
    "exam_scores = pd.Series([90, 80, 120, nan, 95, 80, -10])\n",
    "exam_scores"
   ]
  },
  {
   "cell_type": "code",
   "execution_count": null,
   "id": "30c7c411",
   "metadata": {},
   "outputs": [],
   "source": [
    "# 결측치 확인\n",
    "print(pd.isnull(exam_scores))      # 각 값이 비어있나? -> 비교했을 때 3은 비어있기 때문에 true로 출력\n",
    "# 결측치가 아닌거 확인\n",
    "pd.notnull(exam_scores)            # 값이 비어있지 않다"
   ]
  },
  {
   "cell_type": "code",
   "execution_count": null,
   "id": "10b34448",
   "metadata": {},
   "outputs": [],
   "source": [
    "# 결측 빈도 확인 : count_nonzero\n",
    "import numpy as np\n",
    "print(\"결측 빈도:\", np.count_nonzero(exam_scores.isnull()))"
   ]
  },
  {
   "cell_type": "code",
   "execution_count": null,
   "id": "8d58ede4",
   "metadata": {},
   "outputs": [],
   "source": [
    "# 이상치를 결측치로 대체 하고\n",
    "# 결측치를 중앙값으로 대체해서\n",
    "# 최종평균값 출력\n",
    "\n",
    "# 이상치 -> 결측치\n",
    "exam_scores.isin(range(0, 101))          # 0 ~ 100 사이에 있는지 확인하기\n",
    "~ exam_scores.isin(range(0, 101))        # 0 ~ 100 사이 범주를 벗어난 데이트 판별"
   ]
  },
  {
   "cell_type": "code",
   "execution_count": null,
   "id": "6a0c36fe",
   "metadata": {},
   "outputs": [],
   "source": [
    "# 이상치 -> 결측치\n",
    "exam_scores[~exam_scores.isin(range(0, 101))] = nan\n",
    "exam_scores"
   ]
  },
  {
   "cell_type": "code",
   "execution_count": null,
   "id": "470cb2ef",
   "metadata": {},
   "outputs": [],
   "source": [
    "# 이상치를 결측치로 대채한 데이터셋의 통계\n",
    "print(\"기초통계량:\\n\", exam_scores.describe())\n",
    "print(\"산술평균:\", exam_scores.mean())"
   ]
  },
  {
   "cell_type": "code",
   "execution_count": null,
   "id": "7644c4c1",
   "metadata": {},
   "outputs": [],
   "source": [
    "# 결측치 -> 중앙값\n",
    "exam_scores[exam_scores.isnull()] = exam_scores.median()\n",
    "exam_scores"
   ]
  },
  {
   "cell_type": "code",
   "execution_count": null,
   "id": "0ed1833a",
   "metadata": {},
   "outputs": [],
   "source": [
    "# 결측치를 중앙값으로 대체한 데이터셋의 평균\n",
    "print(\"평균:\", exam_scores.mean())"
   ]
  },
  {
   "cell_type": "code",
   "execution_count": null,
   "id": "a03b56c8",
   "metadata": {},
   "outputs": [],
   "source": []
  }
 ],
 "metadata": {
  "kernelspec": {
   "display_name": "Python 3 (ipykernel)",
   "language": "python",
   "name": "python3"
  },
  "language_info": {
   "codemirror_mode": {
    "name": "ipython",
    "version": 3
   },
   "file_extension": ".py",
   "mimetype": "text/x-python",
   "name": "python",
   "nbconvert_exporter": "python",
   "pygments_lexer": "ipython3",
   "version": "3.10.9"
  }
 },
 "nbformat": 4,
 "nbformat_minor": 5
}
