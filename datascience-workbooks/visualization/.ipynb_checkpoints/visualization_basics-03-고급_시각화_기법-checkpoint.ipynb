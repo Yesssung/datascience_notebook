{
 "cells": [
  {
   "cell_type": "markdown",
   "id": "e815f203d0793055",
   "metadata": {},
   "source": [
    "# Visualization\n",
    "-----\n",
    "## Matplot 고급 시각화 기법\n",
    "### 이미지 그리기\n",
    "#### 이미지 데이터를 활용한 그래프 그리기"
   ]
  },
  {
   "cell_type": "code",
   "execution_count": null,
   "id": "2e9db0a99be0a6d9",
   "metadata": {
    "ExecuteTime": {
     "end_time": "2023-08-03T06:57:27.135145200Z",
     "start_time": "2023-08-03T06:57:26.935809Z"
    }
   },
   "outputs": [],
   "source": [
    "import matplotlib.pyplot as plt\n",
    "import numpy as np\n",
    "\n",
    "# 예시 이미지 데이터 (3x3 크기의 흑백 이미지)\n",
    "image_data = np.array([[0.1, 0.4, 0.7],\n",
    "                       [0.3, 0.6, 0.9],\n",
    "                       [0.2, 0.5, 0.8]])\n",
    "\n",
    "plt.imshow(image_data, cmap='gray')  # 흑백 이미지를 회색조로 표시\n",
    "plt.colorbar()  # 컬러바 추가\n",
    "plt.title('Image Plot')\n",
    "plt.show()"
   ]
  },
  {
   "cell_type": "markdown",
   "id": "dc09b5a5f4cb88a1",
   "metadata": {},
   "source": [
    "##### 컬러맵 설정\n",
    "- https://matplotlib.org/stable/tutorials/colors/colormaps.html"
   ]
  },
  {
   "cell_type": "code",
   "execution_count": null,
   "id": "20f247fae1a9a8f7",
   "metadata": {
    "ExecuteTime": {
     "end_time": "2023-08-03T06:31:07.085454200Z",
     "start_time": "2023-08-03T06:31:06.840596100Z"
    }
   },
   "outputs": [],
   "source": [
    "import matplotlib.pyplot as plt\n",
    "import numpy as np\n",
    "\n",
    "# 예시 이미지 데이터 (3x3 크기의 흑백 이미지)\n",
    "image_data = np.array([[0.1, 0.4, 0.7],\n",
    "                       [0.3, 0.6, 0.9],\n",
    "                       [0.2, 0.5, 0.8]])\n",
    "\n",
    "plt.imshow(image_data, cmap='jet')  # 'jet' 컬러맵 사용\n",
    "plt.colorbar()  # 컬러바 추가\n",
    "plt.title('Image Plot with Jet Colormap')\n",
    "plt.show()"
   ]
  },
  {
   "cell_type": "markdown",
   "id": "e668325267b4c384",
   "metadata": {},
   "source": [
    "### 이미지 처리\n",
    "#### 이미지 처리 라이브러리\n",
    "- Pillow\n",
    "- OpenCV\n",
    "- scikit-image\n",
    "- imageio\n",
    "- numpy와 matplotlib (*)"
   ]
  },
  {
   "cell_type": "code",
   "execution_count": null,
   "id": "dd0a2236c6cd885c",
   "metadata": {
    "ExecuteTime": {
     "end_time": "2023-08-16T06:37:04.579658Z",
     "start_time": "2023-08-16T06:37:04.293457400Z"
    }
   },
   "outputs": [],
   "source": [
    "import numpy as np\n",
    "import matplotlib.image as img\n",
    "import matplotlib.pyplot as plt"
   ]
  },
  {
   "cell_type": "code",
   "execution_count": null,
   "id": "7c945494e284a1c5",
   "metadata": {
    "ExecuteTime": {
     "end_time": "2023-08-16T06:42:43.840857Z",
     "start_time": "2023-08-16T06:42:43.598665300Z"
    }
   },
   "outputs": [],
   "source": [
    "# 이미지 읽어오기\n",
    "image = img.imread('../data/white-horse.jpg')\n",
    "type(image) \n",
    "print(image.shape)  # 895x1280 3채널"
   ]
  },
  {
   "cell_type": "code",
   "execution_count": null,
   "id": "177afbca815ee430",
   "metadata": {
    "ExecuteTime": {
     "end_time": "2023-08-16T06:43:15.788391300Z",
     "start_time": "2023-08-16T06:43:15.759976Z"
    }
   },
   "outputs": [],
   "source": [
    "image"
   ]
  },
  {
   "cell_type": "code",
   "execution_count": null,
   "id": "bc41b21c812622a",
   "metadata": {
    "ExecuteTime": {
     "end_time": "2023-08-16T06:43:47.418313400Z",
     "start_time": "2023-08-16T06:43:47.389214500Z"
    }
   },
   "outputs": [],
   "source": [
    "np.min(image), np.max(image)"
   ]
  },
  {
   "cell_type": "code",
   "execution_count": null,
   "id": "54af16dbbf898999",
   "metadata": {
    "ExecuteTime": {
     "end_time": "2023-08-16T06:44:15.541578800Z",
     "start_time": "2023-08-16T06:44:14.483442100Z"
    }
   },
   "outputs": [],
   "source": [
    "# 이미지 출력 (imshow)\n",
    "plt.imshow(image)"
   ]
  },
  {
   "cell_type": "code",
   "execution_count": null,
   "id": "7d28944676ebdc98",
   "metadata": {
    "ExecuteTime": {
     "end_time": "2023-08-16T06:44:47.276277700Z",
     "start_time": "2023-08-16T06:44:46.056496100Z"
    }
   },
   "outputs": [],
   "source": [
    "# 이미지 상하 반전\n",
    "plt.imshow(image[::-1])"
   ]
  },
  {
   "cell_type": "code",
   "execution_count": null,
   "id": "2ea11474e38755a1",
   "metadata": {
    "ExecuteTime": {
     "end_time": "2023-08-16T06:45:04.213194400Z",
     "start_time": "2023-08-16T06:45:03.456832900Z"
    }
   },
   "outputs": [],
   "source": [
    "# 이미지 좌우 반전\n",
    "plt.imshow(image[:, ::-1])"
   ]
  },
  {
   "cell_type": "code",
   "execution_count": null,
   "id": "e99854e2da3c8826",
   "metadata": {
    "ExecuteTime": {
     "end_time": "2023-08-16T06:47:08.826580400Z",
     "start_time": "2023-08-16T06:47:08.036114100Z"
    }
   },
   "outputs": [],
   "source": [
    "# Cropping\n",
    "plt.imshow(image[100:800, 400:1000])\n",
    "plt.savefig('../generated/white-horse-cropped.png')"
   ]
  },
  {
   "cell_type": "markdown",
   "id": "298b5e89aedcb48a",
   "metadata": {},
   "source": [
    "### 고급 그래프\n",
    "#### 상자 그림 (Box Plot)\n",
    "- 박스 플롯의 특징\n",
    "    - 중앙값, 1사분위수, 3사분위수 등의 통계적 요약 정보를 그래픽으로 표현\n",
    "    - 데이터의 분포, 중심 경향, 이상치 등을 한 눈에 파악\n",
    "    - IQR(Interquartile Range, 사분범위)를 이용하여데이터의 변동성과 이상치를 시각적으로 표현\n",
    "- 장점\n",
    "    - 데이터의 전반적인 분포와 중앙값, 이상치 등을 쉽게 파악 가능\n",
    "    - 여러 그룹의 데이터 분포를 한번에 비교하기 좋음\n",
    "    - 데이터의 대략적인 대칭성, 편향도 등을 확인할 수 있음\n",
    "    - 이상치의 존재를 명확히 확인 가능\n",
    "- 단점\n",
    "    - 데이터의 실제 값을 정확히 나타내지 않음\n",
    "    - 데이터의 분포 모양(예: 다봉분포)을 구체적으로 파악하기 어려움\n",
    "    - 큰 데이터셋에서의 미세한 차이를 구분하기 어려울 수 있음\n",
    "    - 모든 유형의 데이터셋에 적합하지 않을 수 있음 (예: 데이터 포인트가 너무 적은 경우)\n",
    "#### 상자 그림의 주요 구성 요소\n",
    "- 상자\n",
    "    - 상자의 아래쪽과 위쪽은 1사분위수(Q1)와 3사분위수(Q3)를 나타냄\n",
    "    - 상자의 길이는 IQR(Interquartile Range, 사분범위)라고 하며 데이터의 중간 50%를 나타냄\n",
    "- 중앙선\n",
    "    - 상자 내부의 선은 중앙값(median 또는 2사분위수)을 나타냄\n",
    "- 수염(Whiskers)\n",
    "    - 데이터의 분포 범위를 나타내는 선\n",
    "    - 아래 수염: Q1 - 1.5 * IQR\n",
    "    - 위 수염: Q3 + 1.5 * IQR\n",
    "- 이상치(Outlier)\n",
    "    - 수염 밖의 점으로 일반적인 분포 범위에서 크게 벗어난 값"
   ]
  },
  {
   "cell_type": "code",
   "execution_count": null,
   "id": "5b58fb1ebd10e914",
   "metadata": {
    "ExecuteTime": {
     "end_time": "2023-08-17T12:13:54.678201500Z",
     "start_time": "2023-08-17T12:13:54.439780100Z"
    }
   },
   "outputs": [],
   "source": [
    "import matplotlib.pyplot as plt\n",
    "import numpy as np\n",
    "# 데이터 예시\n",
    "data = np.array([1, 2, 3, 4, 5, 6, 7, 8, 9, 10, 11, 12, 13, 14, 15, 16, 30])\n",
    "\n",
    "# 박스플롯 생성\n",
    "plt.boxplot(data)\n",
    "plt.title('Box Plot')\n",
    "plt.show()"
   ]
  },
  {
   "cell_type": "code",
   "execution_count": null,
   "id": "89f98601415362b8",
   "metadata": {
    "ExecuteTime": {
     "end_time": "2023-08-17T12:24:23.369834100Z",
     "start_time": "2023-08-17T12:24:23.265793700Z"
    }
   },
   "outputs": [],
   "source": [
    "# 사분위수 계산\n",
    "q1 = np.percentile(data, 25)\n",
    "q2 = np.percentile(data, 50)\n",
    "q3 = np.percentile(data, 75)\n",
    "\n",
    "print(\"1사분위수: \", q1)\n",
    "print(\"2사분위수: \", q2)    # 2사분위수 == 중앙값\n",
    "print(\"3사분위수: \", q3)\n",
    "print(\"중앙값: \", np.median(data)) \n",
    "\n",
    "iqr = q3 - q1\n",
    "print(\"IQR: \", iqr)\n",
    "\n",
    "# 아랫수염\n",
    "lower = q1 - 1.5 * iqr\n",
    "# 윗수염\n",
    "upper = q3 + 1.5 * iqr\n",
    "print(\"아랫수염: \", lower)\n",
    "print(\"윗수염: \", upper)\n",
    "\n",
    "# 이상치\n",
    "outlier = data[(data < lower) | (data > upper)]\n",
    "print(\"이상치: \", outlier)"
   ]
  },
  {
   "cell_type": "markdown",
   "id": "cd79e9872511c549",
   "metadata": {},
   "source": [
    "#### 바이올린 그래프 (Violin Plot)\n",
    "- 특징\n",
    "    - KDE(Kernel Density Estimation)의 원리를 기반으로 데이터의 밀도를 시각화\n",
    "    - 박스 플롯과 유사한 정보를 포함하지만, 데이터의 분포 밀도를 좀 더 상세히 표현\n",
    "    - 데이터의 분포가 대칭이 아닐 때에도 그 분포의 형태를 잘 보여줌\n",
    "- 장점\n",
    "    - 데이터의 분포와 밀도를 한 눈에 파악할 수 있음\n",
    "    - 여러 그룹 간의 데이터 분포 비교에 유용\n",
    "    - 박스 플롯보다 데이터의 분포 형태에 대한 정보를 더 자세히 제공\n",
    "- 단점\n",
    "    - 처음 보는 사람들에게는 해석이 복잡하거나 이해하기 어려울 수 있음\n",
    "    - 데이터의 실제 수치를 정확하게 나타내지 않음\n",
    "    - 너무 많은 카테고리나 그룹이 있을 경우 시각적으로 복잡하게 보일 수 있음"
   ]
  },
  {
   "cell_type": "code",
   "execution_count": null,
   "id": "767c218e4f7c307f",
   "metadata": {
    "ExecuteTime": {
     "end_time": "2023-08-17T12:49:52.851355100Z",
     "start_time": "2023-08-17T12:49:52.421214100Z"
    }
   },
   "outputs": [],
   "source": [
    "import seaborn as sns\n",
    "import matplotlib.pyplot as plt\n",
    "\n",
    "tips = sns.load_dataset('tips')\n",
    "\n",
    "tips.shape  # 244 x 7\n",
    "tips.info()"
   ]
  },
  {
   "cell_type": "code",
   "execution_count": null,
   "id": "6deb369136f2931f",
   "metadata": {
    "ExecuteTime": {
     "end_time": "2023-08-17T12:53:11.094426200Z",
     "start_time": "2023-08-17T12:53:10.821997200Z"
    }
   },
   "outputs": [],
   "source": [
    "# 바이올린 플롯 그리기\n",
    "plt.figure(figsize=(10, 6))\n",
    "sns.violinplot(x=\"day\", y=\"total_bill\", data=tips)\n",
    "plt.title(\"Total Bill by Day\")\n",
    "plt.show()"
   ]
  },
  {
   "cell_type": "code",
   "execution_count": null,
   "id": "8858379115bb0eed",
   "metadata": {
    "ExecuteTime": {
     "end_time": "2023-08-17T12:58:26.584526500Z",
     "start_time": "2023-08-17T12:58:26.376604100Z"
    }
   },
   "outputs": [],
   "source": [
    "# 성별 및 흡연 여부에 따른 전체 계산 금액의 분포\n",
    "plt.figure(figsize=(12, 6))\n",
    "\n",
    "sns.violinplot(x=\"sex\", y=\"total_bill\", \n",
    "               hue=\"smoker\", \n",
    "               data=tips, \n",
    "               split=True, \n",
    "               inner=\"quart\", \n",
    "               palette=\"muted\")\n",
    "# sns.violinplot(x=\"smoker\", y=\"total_bill\", \n",
    "#                hue=\"sex\", \n",
    "#                data=tips, \n",
    "#                split=True, \n",
    "#                inner=\"quart\", \n",
    "#                palette=\"muted\")\n",
    "plt.title(\"Total Bill by Gender and Smoking Status\")\n",
    "plt.show()"
   ]
  },
  {
   "cell_type": "markdown",
   "id": "668e7301d64460fb",
   "metadata": {},
   "source": [
    "#### 히트맵 (Heatmap)\n",
    "- 히트맵의 특징\n",
    "    - 데이터의 값을 색상으로 나타내는 시각화 방법\n",
    "    - 행과 열로 구성된 2차원 테이블 형태의 데이터에 주로 사용\n",
    "    - 값의 상대적인 크기를 비교하거나 패턴을 파악하는 데 사용\n",
    "- 장점\n",
    "    - 데이터의 분포와 상관관계를 시각적으로 파악하기 용이\n",
    "    - 복잡한 데이터 구조에서 패턴이나 군집을 쉽게 식별할 수 있음\n",
    "    - 여러 변수 간의 관계를 동시에 분석할 수 있는 다중 변수 시각화에 적합\n",
    "- 단점\n",
    "    - 색상 선택이 중요하며, 부적절한 색상 사용은 오해를 초래할 수 있음\n",
    "    - 데이터 값의 정확한 수치를 파악하기 어려울 수 있음\n",
    "    - 고밀도 데이터의 경우 작은 셀 내의 정보 표현이 어려울 수 있음\n",
    "    - 너무 많은 변수를 함께 표현할 경우 가독성이 저하될 수 있음"
   ]
  },
  {
   "cell_type": "code",
   "execution_count": null,
   "id": "dfb3601c",
   "metadata": {
    "ExecuteTime": {
     "end_time": "2023-08-19T03:53:11.202580300Z",
     "start_time": "2023-08-19T03:53:10.256692600Z"
    }
   },
   "outputs": [],
   "source": [
    "#\n",
    "import seaborn as sns\n",
    "import matplotlib.pyplot as plt\n",
    "\n",
    "# 한글 폰트 세팅\n",
    "plt.rcParams['font.family'] = 'Malgun Gothic'\n",
    "# Seaborn의 샘플 데이터셋 불러오기\n",
    "flights_data = sns.load_dataset(\"flights\")\n",
    "flights_data"
   ]
  },
  {
   "cell_type": "code",
   "execution_count": null,
   "id": "b4a87d47330c3502",
   "metadata": {
    "ExecuteTime": {
     "end_time": "2023-08-19T03:53:11.202580300Z",
     "start_time": "2023-08-19T03:53:10.256692600Z"
    }
   },
   "outputs": [],
   "source": [
    "# 피벗 테이블 생성\n",
    "flights_pivot = flights_data.pivot_table(index=\"month\", columns=\"year\", values=\"passengers\")\n",
    "\n",
    "# Seaborn을 사용하여 히트맵 그리기\n",
    "plt.figure(figsize=(10, 6))\n",
    "sns.heatmap(flights_pivot, # 히트맵에 사용할 데이터\n",
    "            cmap=\"YlGnBu\", # 색상 맵 지정\n",
    "            annot=True, # 각 셀에 숫자 표시 여부\n",
    "            fmt=\"d\")    # 포맷 지정, d: 정수형\n",
    "plt.title(\"연도별 월별 항공편 수 히트맵\")\n",
    "plt.xlabel(\"연도\")\n",
    "plt.ylabel(\"월\")\n",
    "plt.show()"
   ]
  },
  {
   "cell_type": "code",
   "execution_count": null,
   "id": "735ba1971c404c25",
   "metadata": {},
   "outputs": [],
   "source": []
  }
 ],
 "metadata": {
  "kernelspec": {
   "display_name": "Python 3 (ipykernel)",
   "language": "python",
   "name": "python3"
  },
  "language_info": {
   "codemirror_mode": {
    "name": "ipython",
    "version": 3
   },
   "file_extension": ".py",
   "mimetype": "text/x-python",
   "name": "python",
   "nbconvert_exporter": "python",
   "pygments_lexer": "ipython3",
   "version": "3.10.9"
  }
 },
 "nbformat": 4,
 "nbformat_minor": 5
}
